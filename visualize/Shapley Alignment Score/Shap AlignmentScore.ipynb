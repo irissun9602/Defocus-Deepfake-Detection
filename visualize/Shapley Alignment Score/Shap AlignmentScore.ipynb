{
 "cells": [
  {
   "cell_type": "markdown",
   "metadata": {},
   "source": [
    "# Alignment Score"
   ]
  },
  {
   "cell_type": "code",
   "execution_count": null,
   "metadata": {},
   "outputs": [],
   "source": [
    "import numpy as np\n",
    "data = np.load(\"../Shapley Save/shap_data_real.npz\", allow_pickle=True)\n",
    "real_dmaps = data[\"dmaps\"]\n",
    "real_defocus_shaps = data[\"defocus_shaps\"]\n",
    "real_rgb_shaps = data[\"rgb_shaps\"]\n"
   ]
  },
  {
   "cell_type": "code",
   "execution_count": null,
   "metadata": {},
   "outputs": [],
   "source": [
    "# Need to replace each fake dataset one by one and compute the alignment score\n",
    "data = np.load(\"../Shapley Save/shap_data_fake_Deepfakes.npz\", allow_pickle=True)\n",
    "fake_dmaps = data[\"dmaps\"]\n",
    "fake_defocus_shaps = data[\"defocus_shaps\"]\n",
    "fake_rgb_shaps = data[\"rgb_shaps\"]"
   ]
  },
  {
   "cell_type": "code",
   "execution_count": 3,
   "metadata": {},
   "outputs": [
    {
     "data": {
      "text/plain": [
       "(1000, 299, 299)"
      ]
     },
     "execution_count": 3,
     "metadata": {},
     "output_type": "execute_result"
    }
   ],
   "source": [
    "real_dmaps.shape"
   ]
  },
  {
   "cell_type": "code",
   "execution_count": null,
   "metadata": {},
   "outputs": [],
   "source": [
    "fake_dmaps.shape"
   ]
  },
  {
   "cell_type": "markdown",
   "metadata": {},
   "source": [
    "# Pixel Difference with SHAP"
   ]
  },
  {
   "cell_type": "code",
   "execution_count": null,
   "metadata": {},
   "outputs": [],
   "source": [
    "import numpy as np\n",
    "import matplotlib.pyplot as plt\n",
    "import os\n",
    "import scipy.stats\n",
    "from brokenaxes import brokenaxes\n",
    "\n",
    "def compare_shap_diff(fake_dmaps, real_dmaps, shap_list,\n",
    "                               num_bins=20, save_dir=\"./align\"):\n",
    "    os.makedirs(save_dir, exist_ok=True)\n",
    "    kl_scores = []\n",
    "    overlap_scores = []\n",
    "    \n",
    "    for i in range(50):\n",
    "        # asseart shape consistency\n",
    "        assert fake_dmaps[i].shape == real_dmaps[i].shape, \"Real/Fake map shape mismatch\"\n",
    "        h, w = fake_dmaps[i].shape  # Extract height and width\n",
    "        \n",
    "        fake_dmap = fake_dmaps[i].astype(np.float32).flatten()\n",
    "        real_dmap = real_dmaps[i].astype(np.float32).flatten()\n",
    "        \n",
    "        # Convert SHAP values to absolute values and flatten to 1D\n",
    "        shap = np.abs(shap_list[i].astype(np.float32).flatten())\n",
    "        # Ensure all values are non-negative (clip any potential numerical noise below 0)\n",
    "        shap = np.clip(shap, 0, None) \n",
    "    \n",
    "        \n",
    "        # Compute pixel-wise differences\n",
    "        pixel_diff = np.abs(fake_dmap - real_dmap)  \n",
    "        \n",
    "                \n",
    "        # Compute histograms\n",
    "        bins = np.linspace(0, 1, num_bins+1)\n",
    "        bin_centers = (bins[:-1] + bins[1:])/2\n",
    "        \n",
    "        hist_diff, _ = np.histogram(fake_dmap, bins=bins, weights=pixel_diff)\n",
    "        hist_shap, _ = np.histogram(fake_dmap, bins=bins, weights=shap)\n",
    "        print(hist_diff)\n",
    "\n",
    "        # L1 Regularization\n",
    "        eps = 1e-8\n",
    "        hist_diff_norm = hist_diff / (hist_diff.sum() + eps)\n",
    "        hist_shap_norm = hist_shap / (hist_shap.sum() + eps)\n",
    "        \n",
    "        # Compute KL Divergence and Overlap\n",
    "        kl_div = scipy.stats.entropy(hist_shap_norm + eps, hist_diff_norm + eps)\n",
    "        overlap = np.minimum(hist_shap_norm, hist_diff_norm).sum()\n",
    "        \n",
    "        kl_scores.append(kl_div)\n",
    "        overlap_scores.append(overlap)\n",
    "        \n",
    "        # Generate a figure with a broken y-axis (y-axis break applied)\n",
    "        fig = plt.figure(figsize=(5, 2.5))\n",
    "        bax = brokenaxes(xlims=[(0, 0.6)], ylims=((0, 0.1), (0.4, 0.5)), hspace=0.25)\n",
    "\n",
    "        bax.bar(bin_centers, hist_diff_norm, width=0.04, alpha=0.6, color='navy', label='Pixel Diff')\n",
    "        bax.bar(bin_centers, hist_shap_norm, width=0.02, alpha=0.8, color='gold', label='SHAP')\n",
    "\n",
    "        bax.set_xlabel(\"Defocus Value\", fontsize=10)\n",
    "        bax.set_ylabel(\"Normalized Weight\", fontsize=10)\n",
    "        bax.legend(loc='upper right', fontsize=10)\n",
    "        fig.suptitle(f\"Sample {i:02d} | KL: {kl_div:.3f} | Alignment Score: {overlap:.3f}\", fontsize=10)\n",
    "\n",
    "        plt.tight_layout()\n",
    "        plt.savefig(os.path.join(save_dir, f\"align_{i:02d}.png\"), bbox_inches='tight', dpi=300)\n",
    "        plt.close()\n",
    "    # Print the average KL and Alignment scores\n",
    "    print(f\"✅ Average KL Divergence: {np.mean(kl_scores):.4f} ± {np.std(kl_scores):.4f}\")\n",
    "    print(f\"✅ Average Alignment Score: {np.mean(overlap_scores):.4f} ± {np.std(overlap_scores):.4f}\")\n",
    "    return kl_scores, overlap_scores\n"
   ]
  },
  {
   "cell_type": "code",
   "execution_count": null,
   "metadata": {},
   "outputs": [],
   "source": [
    "# Results from the Defocus model\n",
    "kl_scores, overlap_scores = compare_shap_diff(\n",
    "    fake_dmaps=fake_dmaps,\n",
    "    real_dmaps=real_dmaps,\n",
    "    shap_list=fake_defocus_shaps,\n",
    "    num_bins=20,\n",
    "    save_dir=\"./compare_shap_diff_defocus_Deepfakes\"\n",
    ")\n"
   ]
  },
  {
   "cell_type": "code",
   "execution_count": null,
   "metadata": {},
   "outputs": [],
   "source": [
    "# Results from the RGB model\n",
    "kl_scores, overlap_scores = compare_shap_diff(\n",
    "    fake_dmaps=fake_dmaps,\n",
    "    real_dmaps=real_dmaps,\n",
    "    shap_list=fake_rgb_shaps,\n",
    "    num_bins=20,\n",
    "    save_dir=\"./compare_shap_diff_rgb_Deepfakes\"\n",
    ")\n"
   ]
  }
 ],
 "metadata": {
  "kernelspec": {
   "display_name": "seg",
   "language": "python",
   "name": "seg"
  },
  "language_info": {
   "codemirror_mode": {
    "name": "ipython",
    "version": 3
   },
   "file_extension": ".py",
   "mimetype": "text/x-python",
   "name": "python",
   "nbconvert_exporter": "python",
   "pygments_lexer": "ipython3",
   "version": "3.8.20"
  }
 },
 "nbformat": 4,
 "nbformat_minor": 2
}
